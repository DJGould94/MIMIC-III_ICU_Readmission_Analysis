{
 "cells": [
  {
   "cell_type": "code",
   "execution_count": 9,
   "metadata": {},
   "outputs": [],
   "source": [
    "from mimic3benchmark.mimic3csv import *\n",
    "from mimic3benchmark.preprocessing import add_hcup_ccs_2015_groups, make_phenotype_label_matrix\n",
    "from mimic3benchmark.util import *\n",
    "import os\n",
    "import yaml\n",
    "\n",
    "\n",
    "mimic3_path = \"/Users/brian/Downloads/mimic-iii-clinical-database-1.4\"\n",
    "output_path = \"/tmp/mimic3\"\n",
    "if not os.path.exists(output_path):\n",
    "    os.mkdir(output_path)\n",
    "phenotype_definitions = \"../resources/hcup_ccs_2015_definitions.yaml\"\n",
    "verbose = False"
   ]
  },
  {
   "cell_type": "code",
   "execution_count": 10,
   "metadata": {},
   "outputs": [],
   "source": [
    "patients = read_patients_table(mimic3_path)\n",
    "admits = read_admissions_table(mimic3_path)\n",
    "transfers = read_transfers_table(mimic3_path)\n",
    "stays = read_icustays_table(mimic3_path)"
   ]
  },
  {
   "cell_type": "code",
   "execution_count": 11,
   "metadata": {},
   "outputs": [],
   "source": [
    "transfers = merge_on_subject_admission(transfers, admits)\n",
    "transfers = merge_on_subject(transfers, patients)\n",
    "\n",
    "stays = merge_on_subject_admission(stays, admits)\n",
    "stays = merge_on_subject(stays, patients)"
   ]
  },
  {
   "cell_type": "code",
   "execution_count": 12,
   "metadata": {},
   "outputs": [],
   "source": [
    "transfers = add_age_to_icustays(transfers)"
   ]
  },
  {
   "cell_type": "code",
   "execution_count": 13,
   "metadata": {},
   "outputs": [],
   "source": [
    "transfers = add_inunit_mortality_to_icustays(transfers)\n",
    "transfers = add_inhospital_mortality_to_icustays(transfers)\n",
    "transfers = filter_icustays_on_age(transfers)"
   ]
  },
  {
   "cell_type": "code",
   "execution_count": 14,
   "metadata": {},
   "outputs": [
    {
     "name": "stdout",
     "output_type": "stream",
     "text": [
      "stransfers_done\n",
      "stays_done\n",
      "all_diagnoses_done\n",
      "diagnosis_counts_done\n",
      "all_procedures_done\n",
      "procedures_counts_done\n"
     ]
    },
    {
     "name": "stderr",
     "output_type": "stream",
     "text": [
      "/Users/brian/opt/anaconda3/envs/mimic3_retro/lib/python3.5/site-packages/IPython/core/interactiveshell.py:3265: DtypeWarning: Columns (11) have mixed types. Specify dtype option on import or set low_memory=False.\n",
      "  exec(code_obj, self.user_global_ns, self.user_ns)\n"
     ]
    },
    {
     "name": "stdout",
     "output_type": "stream",
     "text": [
      "all_prescriptions_done\n"
     ]
    }
   ],
   "source": [
    "transfers.to_csv(os.path.join(output_path, 'all_transfers.csv'), index=False)\n",
    "print ('transfers_done')\n",
    "stays.to_csv(os.path.join(output_path, 'all_stays.csv'), index=False)\n",
    "print ('stays_done')\n",
    "#====================================================================================\n",
    "\n",
    "diagnoses = read_icd_diagnoses_table(mimic3_path)\n",
    "diagnoses = filter_diagnoses_on_stays(diagnoses, stays)\n",
    "diagnoses.to_csv(os.path.join(output_path, 'all_diagnoses.csv'), index=False)\n",
    "print ('all_diagnoses_done')\n",
    "count_icd_codes(diagnoses, output_path=os.path.join(output_path, 'diagnosis_counts.csv'))\n",
    "print ('diagnosis_counts_done')\n",
    "#====================================================================================\n",
    "\n",
    "procedures = read_icd_procedures_table(mimic3_path)\n",
    "procedures = filter_diagnoses_on_stays(procedures, stays)\n",
    "procedures.to_csv(os.path.join(output_path, 'all_procedures.csv'), index=False)\n",
    "print ('all_procedures_done')\n",
    "count_icd_codes(procedures, output_path=os.path.join(output_path, 'procedures_counts.csv'))\n",
    "print ('procedures_counts_done')\n",
    "#----------\n",
    "prescriptions = read_prescriptions_table(mimic3_path)\n",
    "prescriptions.to_csv(os.path.join(output_path, 'all_prescriptions.csv'), index=False)\n",
    "print ('all_prescriptions_done')"
   ]
  },
  {
   "cell_type": "code",
   "execution_count": 15,
   "metadata": {},
   "outputs": [],
   "source": [
    "#====================================================================================\n",
    "phenotypes = add_hcup_ccs_2015_groups(diagnoses, yaml.load(open(phenotype_definitions, 'r')))"
   ]
  },
  {
   "cell_type": "code",
   "execution_count": 16,
   "metadata": {},
   "outputs": [],
   "source": [
    "#phenotypes = phenotypes[['ICUSTAY_ID', 'HCUP_CCS_2015']].loc[phenotypes.USE_IN_BENCHMARK > 0].drop_duplicates()\n"
   ]
  },
  {
   "cell_type": "code",
   "execution_count": 17,
   "metadata": {},
   "outputs": [],
   "source": [
    "make_phenotype_label_matrix(phenotypes, stays).to_csv(os.path.join(output_path, 'phenotype_labels.csv'),\n",
    "                                                      index=False, quoting=csv.QUOTE_NONNUMERIC)\n",
    "#===================================================================================="
   ]
  },
  {
   "cell_type": "code",
   "execution_count": 18,
   "metadata": {},
   "outputs": [],
   "source": [
    "subjects = stays.SUBJECT_ID.unique()\n",
    "break_up_stays_by_subject(stays, output_path, subjects=subjects, verbose=verbose)\n",
    "break_up_transfers_by_subject(transfers, output_path, subjects=subjects, verbose=verbose)\n",
    "\n",
    "break_up_diagnoses_by_subject(phenotypes, output_path, subjects=subjects, verbose=verbose)\n",
    "break_up_procedures_by_subject(procedures, output_path, subjects=subjects, verbose=verbose)\n",
    "\n",
    "break_up_prescriptions_by_subject(prescriptions, output_path, subjects=subjects, verbose=verbose)"
   ]
  },
  {
   "cell_type": "code",
   "execution_count": null,
   "metadata": {},
   "outputs": [],
   "source": [
    "items_to_keep = set(\n",
    "    [int(itemid) for itemid in dataframe_from_csv(args.itemids_file)['ITEMID'].unique()]) if args.itemids_file else None\n",
    "\n",
    "for table in args.event_tables:\n",
    "    read_events_table_and_break_up_by_subject(mimic3_path, table, output_path, items_to_keep=items_to_keep,\n",
    "                                              subjects_to_keep=subjects, verbose=verbose)"
   ]
  },
  {
   "cell_type": "code",
   "execution_count": null,
   "metadata": {},
   "outputs": [],
   "source": []
  }
 ],
 "metadata": {
  "kernelspec": {
   "display_name": "Python 3",
   "language": "python",
   "name": "python3"
  },
  "language_info": {
   "codemirror_mode": {
    "name": "ipython",
    "version": 3
   },
   "file_extension": ".py",
   "mimetype": "text/x-python",
   "name": "python",
   "nbconvert_exporter": "python",
   "pygments_lexer": "ipython3",
   "version": "3.5.5"
  }
 },
 "nbformat": 4,
 "nbformat_minor": 4
}
